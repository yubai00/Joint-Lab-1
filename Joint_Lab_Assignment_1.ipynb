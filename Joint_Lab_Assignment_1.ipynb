{
  "nbformat": 4,
  "nbformat_minor": 0,
  "metadata": {
    "colab": {
      "name": "Joint Lab Assignment 1.ipynb",
      "provenance": [],
      "collapsed_sections": [],
      "include_colab_link": true
    },
    "kernelspec": {
      "name": "python3",
      "display_name": "Python 3"
    },
    "accelerator": "GPU"
  },
  "cells": [
    {
      "cell_type": "markdown",
      "metadata": {
        "id": "view-in-github",
        "colab_type": "text"
      },
      "source": [
        "<a href=\"https://colab.research.google.com/github/yubai00/Joint-Lab-1/blob/main/Joint_Lab_Assignment_1.ipynb\" target=\"_parent\"><img src=\"https://colab.research.google.com/assets/colab-badge.svg\" alt=\"Open In Colab\"/></a>"
      ]
    },
    {
      "cell_type": "markdown",
      "metadata": {
        "id": "cCWD3MQ9JIKY"
      },
      "source": [
        "Author: Yu Bai, Yutian Chen, Tianxiao Wei"
      ]
    },
    {
      "cell_type": "code",
      "metadata": {
        "id": "jFUm2rT_I-pI"
      },
      "source": [
        "import numpy as np\n",
        "import matplotlib.pyplot as plt"
      ],
      "execution_count": null,
      "outputs": []
    },
    {
      "cell_type": "code",
      "metadata": {
        "id": "YEoz-_LDMTvk"
      },
      "source": [
        "delta_t = 1\n",
        "pi = np.pi\n",
        "\n",
        "def pwm2rot(pwm):\n",
        "        # maps from PWM to rotational speed\n",
        "        return pwm * 100"
      ],
      "execution_count": null,
      "outputs": []
    },
    {
      "cell_type": "code",
      "metadata": {
        "id": "3ocGDLZ6cL8e"
      },
      "source": [
        "class envir:\n",
        "    # the environment is a rectangular consisting 4 walls bounding an open space\n",
        "    # the positions of the walls are x=0, y=0, x=length, y=width\n",
        "    def __init__(self, length, width):\n",
        "        self.length = length\n",
        "        self.width = width"
      ],
      "execution_count": null,
      "outputs": []
    },
    {
      "cell_type": "code",
      "metadata": {
        "id": "809HS9lmJRRv"
      },
      "source": [
        "class robot:\n",
        "\n",
        "    def __init__(self, envir, width, diameter, x0 = 0, y0 = 0, theta0 = 0, ifOutput = True, ifPlot = True):\n",
        "        self.envir = envir\n",
        "        self.width = width\n",
        "        self.diameter = diameter\n",
        "        self.x = x0\n",
        "        self.y = y0\n",
        "        self.theta = theta0\n",
        "        self.front_dist = 0\n",
        "        self.right_dist = 0\n",
        "        self.rot_speed = 0\n",
        "        self.ns_mag_field = 0\n",
        "        self.ew_mag_field = 0\n",
        "        self.update_sensor()\n",
        "        self.measure()\n",
        "        if ifOutput:\n",
        "            self.output()\n",
        "        if ifPlot:\n",
        "            self.plot()\n",
        "\n",
        "    def move(self, pwm_l, pwm_r, ifOutput = True, ifPlot = True):\n",
        "        width = self.width\n",
        "        theta = self.theta\n",
        "        # map from PWM to rotation speed\n",
        "        rot_l = pwm2rot(pwm_l)\n",
        "        rot_r = pwm2rot(pwm_r)\n",
        "\n",
        "        # B is the matrix in x(t+1) = A*x(t) + B*u(t)\n",
        "        B = delta_t * self.diameter/2 * np.array([[1/2 * np.cos(theta), 1/2 * np.cos(theta)],[1/2 * np.sin(theta), 1/2 * np.sin(theta)], [-1/width, 1/width]])\n",
        "        # input is the input vector u(t)\n",
        "        input = np.array([[rot_l],[rot_r]])\n",
        "\n",
        "        # if the potential destination is out of the envrionment (blocked by a wall), it will not move\n",
        "        [[pot_x], [pot_y], [pot_theta]] = [[self.x], [self.y], [self.theta]] + B.dot(input)\n",
        "        if pot_x < 0 or pot_x > self.envir.length or pot_y < 0 or pot_y > self.envir.width:\n",
        "            print(\"The robot didn't move because it is out of bound\")\n",
        "            if ifOutput:\n",
        "                self.output()\n",
        "            if ifPlot:\n",
        "                self.plot()\n",
        "            return\n",
        "\n",
        "        # updates the system state with x(t+1) = A*x(t) + B*u(t)\n",
        "        [self.x, self.y, self.theta] = [pot_x, pot_y, pot_theta]\n",
        "\n",
        "        # reduce theta to be in the range of [0,2*pi)\n",
        "        self.theta = np.remainder(self.theta, 2*pi)\n",
        "\n",
        "        self.update_sensor() # update the sensors\n",
        "        # updates the rotational speed\n",
        "        self.rot_speed = self.diameter/(2 * width) * (rot_r - rot_l)\n",
        "        self.measure() # provide sensor outputs\n",
        "        if ifOutput:\n",
        "            self.output()\n",
        "        if ifPlot:\n",
        "            self.plot()\n",
        "\n",
        "    def update_sensor(self):\n",
        "        # update the equations for the sensor lasers\n",
        "        # y = mf*x + bf describes the laser from the front sensor\n",
        "        # note that np.tan() will never be undefined due to the limitations of computer calculation,\n",
        "        # thus we will have always have the function y = mf*x + bf for all states\n",
        "        self.mf = np.tan(self.theta)\n",
        "        self.bf = self.y - self.mf * self.x\n",
        "        # y = mr*x + br describes the laser from the right sensor\n",
        "        self.mr = np.tan(self.theta - pi/2)\n",
        "        self.br = self.y - self.mr * self.x\n",
        "\n",
        "    def measure(self):\n",
        "        # in simulation, instead of directly obtaining outputs from the sensors, we calculate the sensor outputs with current state, input, and noise\n",
        "        # calculate the intersection and distance between the front laser and the rectangular walls\n",
        "        # if we know the x-coordinate of the wall, y = mx + b\n",
        "        # if we know the y-coordinate of the wall, x = (y-b)/m\n",
        "        l = self.envir.length\n",
        "        w = self.envir.width\n",
        "        mf = self.mf\n",
        "        bf = self.bf\n",
        "        mr = self.mr\n",
        "        br = self.br\n",
        "\n",
        "        # front_inter[0] to front_inter[4] are the intersections with the walls on the right, top, left, buttom, right\n",
        "        # front_inter[4] is used to simply future calculations\n",
        "        front_inter = np.zeros((5,2))\n",
        "        if l*mf+bf >=0 and l*mf+bf <= w:\n",
        "            front_inter[0] = [l, l*mf+bf]\n",
        "            front_inter[4] = [l, l*mf+bf]\n",
        "        if (w-bf)/mf >= 0 and (w-bf)/mf <= l: \n",
        "            front_inter[1] = [(w-bf)/mf, w]\n",
        "        if bf >=0 and bf <= w:\n",
        "            front_inter[2] = [0, bf]\n",
        "        if -bf/mf >= 0 and -bf/mf <= l:\n",
        "            front_inter[3] = [-bf/mf, 0]\n",
        "\n",
        "        # if 0 <= theta < pi/2, we only need to consider the intersection with the right or top wall\n",
        "        # if pi/2 <= theta < pi, we only need to consider the intersection with the top or left wall\n",
        "        # if pi <= theta < 3pi/2, we only need to consider the intersection with the left or buttom wall\n",
        "        # if 3pi/2 <= theta < 2pi, we only need to consider the intersection with the buttom or right wall\n",
        "        # therefore, we use np.floor(theta/(pi/2)) to determine which walls need to be considered\n",
        "        # since the laser y=mx+b will only intersect with one of the two adajacent walls, and the coordinate is set to [0,0] if there is no intersection,\n",
        "        # we can directly compute the intersection by adding the values of adjacent rows in front_inter\n",
        "        idx = int(np.floor(self.theta/(pi/2)))\n",
        "        front_inter_loc = front_inter[idx] + front_inter[idx+1]\n",
        "        self.front_dist = np.sqrt(np.power(self.x-front_inter_loc[0],2) + np.power(self.y-front_inter_loc[1],2))\n",
        "\n",
        "        # right_inter[0] to right_inter[4] are the intersections with the walls on the buttom, right, top, left, buttom\n",
        "        # right_inter[4] is used to simply future calculations  \n",
        "        right_inter = np.zeros((5,2))\n",
        "        if -br/mr >= 0 and -br/mr <= l:\n",
        "            right_inter[0] = [-br/mr, 0]\n",
        "            right_inter[4] = [-br/mr, 0]\n",
        "        if l*mr+br >=0 and l*mr+br <= w:\n",
        "            front_inter[1] = [l, l*mr+br]\n",
        "        if (w-br)/mr >= 0 and (w-br)/mr <= l: \n",
        "            front_inter[2] = [(w-br)/mr, w]\n",
        "        if br >=0 and br <= w:\n",
        "            front_inter[3] = [0, br]\n",
        "\n",
        "        # similar to the calculation of the front intersection\n",
        "        idx = int(np.floor(self.theta/(pi/2)))\n",
        "        right_inter_loc = right_inter[idx] + right_inter[idx+1]\n",
        "        self.right_dist = np.sqrt(np.power(self.x-right_inter_loc[0],2) + np.power(self.y-right_inter_loc[1],2))\n",
        "\n",
        "\n",
        "        # calculate the north-south and east-west magnetic field\n",
        "        self.ns_mag_field = np.sin(self.theta)\n",
        "        self.ew_mag_field = np.cos(self.theta)\n",
        "\n",
        "\n",
        "    def output(self):\n",
        "        print(\"x, y, theta                = \", ', '.join(str(i) for i in [self.x, self.y, self.theta]))\n",
        "        print(\"front distance             = \", self.front_dist)\n",
        "        print(\"right distance             = \", self.right_dist)\n",
        "        print(\"rotational speed           = \", self.rot_speed)\n",
        "        print(\"north-south magnetic field = \", self.ns_mag_field)\n",
        "        print(\"east-west magnetic field   = \", self.ew_mag_field)\n",
        "\n",
        "    def plot(self):\n",
        "        plt.figure(figsize = (10,10))\n",
        "        # plot the rectangular environment\n",
        "        plt.vlines(x=[0, self.envir.length], ymin=0, ymax=self.envir.width)\n",
        "        plt.hlines(y=[0, self.envir.width], xmin=0, xmax=self.envir.length)\n",
        "        # plot the position of the robot\n",
        "        plt.plot(self.x, self.y, 'ro')\n",
        "        # plot the front and right sensor\n",
        "        plt.quiver([self.x, self.x], [self.y, self.y],[np.cos(self.theta), np.sin(self.theta)], [np.cos(self.theta-pi/2), np.sin(self.theta-pi/2)], \n",
        "                   angles='xy', scale_units='xy', scale=1)\n",
        "        plt.show()"
      ],
      "execution_count": null,
      "outputs": []
    },
    {
      "cell_type": "code",
      "metadata": {
        "colab": {
          "base_uri": "https://localhost:8080/",
          "height": 726
        },
        "id": "fWdmgZl6PbMB",
        "outputId": "c9ace777-3e5d-4e05-8d9b-d2efdb8f5092"
      },
      "source": [
        "e = envir(10,10)\n",
        "r = robot(e,1,1)"
      ],
      "execution_count": null,
      "outputs": [
        {
          "output_type": "stream",
          "text": [
            "/usr/local/lib/python3.6/dist-packages/ipykernel_launcher.py:88: RuntimeWarning: divide by zero encountered in double_scalars\n",
            "/usr/local/lib/python3.6/dist-packages/ipykernel_launcher.py:92: RuntimeWarning: invalid value encountered in double_scalars\n"
          ],
          "name": "stderr"
        },
        {
          "output_type": "stream",
          "text": [
            "x, y, theta                =  0, 0, 0\n",
            "front distance             =  10.0\n",
            "right distance             =  0.0\n",
            "rotational speed           =  0\n",
            "north-south magnetic field =  0.0\n",
            "east-west magnetic field   =  1.0\n"
          ],
          "name": "stdout"
        },
        {
          "output_type": "display_data",
          "data": {
            "image/png": "[encoded data removed]",
            "text/plain": [
              "<Figure size 720x720 with 1 Axes>"
            ]
          },
          "metadata": {
            "tags": [],
            "needs_background": "light"
          }
        }
      ]
    },
    {
      "cell_type": "code",
      "metadata": {
        "id": "FKqfmhpLf26q",
        "colab": {
          "base_uri": "https://localhost:8080/",
          "height": 728
        },
        "outputId": "31cc2628-ed15-4478-c23b-36ce82f4fe52"
      },
      "source": [
        "r.move(0.01, 0.01)"
      ],
      "execution_count": null,
      "outputs": [
        {
          "output_type": "stream",
          "text": [
            "/usr/local/lib/python3.6/dist-packages/ipykernel_launcher.py:88: RuntimeWarning: divide by zero encountered in double_scalars\n",
            "/usr/local/lib/python3.6/dist-packages/ipykernel_launcher.py:92: RuntimeWarning: invalid value encountered in double_scalars\n"
          ],
          "name": "stderr"
        },
        {
          "output_type": "stream",
          "text": [
            "x, y, theta                =  1.0, 0.0, 0.0\n",
            "front distance             =  9.0\n",
            "right distance             =  0.0\n",
            "rotational speed           =  0.0\n",
            "north-south magnetic field =  0.0\n",
            "east-west magnetic field   =  1.0\n"
          ],
          "name": "stdout"
        },
        {
          "output_type": "display_data",
          "data": {
            "image/png": "[encoded data removed]",
            "text/plain": [
              "<Figure size 720x720 with 1 Axes>"
            ]
          },
          "metadata": {
            "tags": [],
            "needs_background": "light"
          }
        }
      ]
    },
    {
      "cell_type": "code",
      "metadata": {
        "id": "6calkKZbnyGX"
      },
      "source": [
        ""
      ],
      "execution_count": null,
      "outputs": []
    }
  ]
}